{
  "nbformat": 4,
  "nbformat_minor": 0,
  "metadata": {
    "colab": {
      "provenance": []
    },
    "kernelspec": {
      "name": "python3",
      "display_name": "Python 3"
    },
    "language_info": {
      "name": "python"
    }
  },
  "cells": [
    {
      "cell_type": "code",
      "execution_count": null,
      "metadata": {
        "id": "1WKPlfSO_Hve"
      },
      "outputs": [],
      "source": [
        "import requests\n",
        "import numpy as np\n",
        "from tensorflow.keras.applications.mobilenet_v2 import MobileNetV2, preprocess_input, decode_predictions\n",
        "from tensorflow.keras.preprocessing import image\n",
        "\n",
        "# --- Load MobileNetV2 Model ---\n",
        "mobilenet_model = MobileNetV2(weights='imagenet')\n",
        "\n",
        "# --- Function to Get Nutrition Info ---\n",
        "def get_food_nutrition(food_item):\n",
        "    api_key = \"N7Lwn54DklixpmXQ6N3R3mCi8QabqpVWLjQgfw6C\"  # Replace with your USDA API key\n",
        "    url = f\"https://api.nal.usda.gov/fdc/v1/foods/search?query={food_item}&api_key={api_key}\"\n",
        "    try:\n",
        "        response = requests.get(url).json()\n",
        "        food_name = response['foods'][0]['description']\n",
        "        nutrients = response['foods'][0]['foodNutrients']\n",
        "        top_nutrients = \"\\n\".join([f\"{n['nutrientName']}: {n['value']} {n['unitName']}\" for n in nutrients[:5]])\n",
        "        return food_name, top_nutrients\n",
        "    except:\n",
        "        return \"No data found\", \"Nutrition details unavailable.\"\n",
        "\n",
        "# --- Function to Predict Food from Image ---\n",
        "def image_food_detector(image_path):\n",
        "    try:\n",
        "        img = image.load_img(image_path, target_size=(224, 224))\n",
        "        img_array = image.img_to_array(img)\n",
        "        img_array = np.expand_dims(img_array, axis=0)\n",
        "        img_array = preprocess_input(img_array)\n",
        "\n",
        "        predictions = mobilenet_model.predict(img_array)\n",
        "        decoded_predictions = decode_predictions(predictions, top=3)[0]\n",
        "\n",
        "        print(\"\\n📸 Top predictions:\")\n",
        "        for i, pred in enumerate(decoded_predictions):\n",
        "            print(f\"{i+1}. {pred[1]} ({pred[2]*100:.2f}%)\")\n",
        "\n",
        "        best_pred = decoded_predictions[0]\n",
        "        if best_pred[2] < 0.30:\n",
        "            print(\"⚠ Low confidence. Consider uploading a clearer image.\")\n",
        "        return best_pred[1]\n",
        "\n",
        "    except Exception as e:\n",
        "        print(f\"❌ Error processing image: {e}\")\n",
        "        return \"Unknown\"\n",
        "\n",
        "# --- Main Program ---\n",
        "def run_nutrition_assistant():\n",
        "    print(\"\\n🔍 Modes available: text / image\")\n",
        "    mode = input(\"Choose input mode: \").strip().lower()\n",
        "\n",
        "    if mode == \"text\":\n",
        "        food = input(\"Enter food item: \")\n",
        "    elif mode == \"image\":\n",
        "        image_path = input(\"Enter image path (e.g., mango.jpg): \")\n",
        "        food = image_food_detector(image_path)\n",
        "    else:\n",
        "        print(\"❌ Invalid mode\")\n",
        "        return\n",
        "\n",
        "    food_name, nutrition_info = get_food_nutrition(food)\n",
        "\n",
        "    print(\"\\n🍎 Food:\", food_name)\n",
        "    print(\"🧪 Nutrition Info:\\n\", nutrition_info)\n",
        "\n",
        "# --- Run the App ---\n",
        "if __name__ == \"__main__\":\n",
        "    run_nutrition_assistant()"
      ]
    }
  ]
}